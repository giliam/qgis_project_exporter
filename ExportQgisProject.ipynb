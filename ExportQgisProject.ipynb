{
 "cells": [
  {
   "cell_type": "code",
   "execution_count": null,
   "id": "5d432b32",
   "metadata": {},
   "outputs": [],
   "source": [
    "import re"
   ]
  },
  {
   "cell_type": "markdown",
   "id": "70d7cbd4",
   "metadata": {},
   "source": [
    "# Export all layers\n",
    "\n",
    "Utiliser le plugin `Batch Save Vector layers` pour exporter tous les fichiers **shapefile** dans un dossier en vrac.\n",
    "\n",
    "Réordonner les fichiers selon une architecture pertinente (données d'un côté, potentiels de l'autre, etc.).\n",
    "\n",
    "Sauvegarder le fichier `.qgz` dans la même arborescence que les fichiers **shapefile** (par exemple, le fichier `.qgz` dans un dossier et les fichiers `.shp` dans un sous-dossier *layers* du même dossier)."
   ]
  },
  {
   "cell_type": "code",
   "execution_count": null,
   "id": "1bac9e0c",
   "metadata": {},
   "outputs": [],
   "source": [
    "path_to_folder = \"\"\"/mnt/c/Users/ville/Dropbox (Villes Vivantes)/Villes Vivantes/affaires en cours/EPERNAY PUCA SOBRIETE FONCIERE/3_OPERATIONNEL/1_SIG/\"\"\"\n",
    "path_to_folder = \"\"\"/mnt/c/Users/ville/Dropbox (Villes Vivantes)/Villes Vivantes/affaires en cours/ETUDE D'OPTIMISATION DU FONCIER POLE METROPOLITAIN LOIRE ANGERS - 2021/SIG/\"\"\""
   ]
  },
  {
   "cell_type": "code",
   "execution_count": null,
   "id": "b400a90c",
   "metadata": {},
   "outputs": [],
   "source": [
    "qgz_file_name = 'epernay_fonciers_potentiels'\n",
    "qgz_file_name = 'pmla_fonciers_potentiels'"
   ]
  },
  {
   "cell_type": "markdown",
   "id": "8ff8c7e4",
   "metadata": {},
   "source": [
    "On extrait d'abord l'archive et plus particulièrement le fichier `.qgs`"
   ]
  },
  {
   "cell_type": "code",
   "execution_count": null,
   "id": "89430d0e",
   "metadata": {},
   "outputs": [],
   "source": [
    "import zipfile, io\n",
    "archive = zipfile.ZipFile(path_to_folder + f'/{qgz_file_name}.qgz', 'r')\n",
    "with archive.open(f'{qgz_file_name}.qgs') as f:\n",
    "    qgs_content = f.read().decode('utf-8')\n",
    "archive.close()"
   ]
  },
  {
   "cell_type": "markdown",
   "id": "9debc6b8",
   "metadata": {},
   "source": [
    "On détecte ensuite tous les champs qui correspondent à une source de données :"
   ]
  },
  {
   "cell_type": "code",
   "execution_count": null,
   "id": "1da2f91d",
   "metadata": {},
   "outputs": [],
   "source": [
    "reg_name_src = re.compile(r' name=\"([^\"]+)\" ([^>]+) source=\"([^\"]+)\"')"
   ]
  },
  {
   "cell_type": "code",
   "execution_count": null,
   "id": "2c782781",
   "metadata": {},
   "outputs": [],
   "source": [
    "names_src = reg_name_src.findall(qgs_content)"
   ]
  },
  {
   "cell_type": "markdown",
   "id": "9ed32217",
   "metadata": {},
   "source": [
    "On affiche ceux qui correspondent déjà à des shapefiles qu'il va falloir **déplacer**"
   ]
  },
  {
   "cell_type": "code",
   "execution_count": null,
   "id": "3378c02b",
   "metadata": {},
   "outputs": [],
   "source": [
    "for g in names_src:\n",
    "    name = g[0]\n",
    "    src = g[2]\n",
    "    if \".shp\" in src:\n",
    "        print(name, src)"
   ]
  },
  {
   "cell_type": "markdown",
   "id": "efbb9099",
   "metadata": {},
   "source": [
    "On effectue ensuite les remplacements de source :"
   ]
  },
  {
   "cell_type": "code",
   "execution_count": null,
   "id": "be040cd6",
   "metadata": {},
   "outputs": [],
   "source": [
    "reg_name_src = re.compile(r' name=\"([^\"]+)\" ([^>]*)source=\"([^\"]+)\"')\n",
    "qgs_content_fixed = reg_name_src.sub(r' name=\"\\1\" \\2 source=\"./layers/\\1.shp\"', qgs_content)\n",
    "reg_name_src = re.compile(r' source=\"([^\"]+)\" ([^>]*)name=\"([^\"]+)\"')\n",
    "qgs_content_fixed = reg_name_src.sub(r' source=\"./layers/\\3.shp\" \\2 name=\"\\3\"', qgs_content_fixed)\n",
    "reg_data_source = re.compile(r'<datasource>((?:(?!\\.csv|<).)+)<\\/datasource>(?!layername)(?!datasource)(.+?)<layername>([^<]+)<\\/layername>',\n",
    "                            flags=re.MULTILINE | re.DOTALL)\n",
    "qgs_content_fixed = reg_data_source.sub(r'<datasource>./layers/\\3.shp</datasource>\\2<layername>\\3</layername>', qgs_content_fixed)\n",
    "qgs_content_fixed = qgs_content_fixed.replace('providerKey=\"postgres\"', 'providerKey=\"ogr\"')\n",
    "qgs_content_fixed = qgs_content_fixed.replace('<provider encoding=\"\">postgres</provider>', '<provider encoding=\"UTF-8\">ogr</provider>')\n",
    "print(qgs_content_fixed)"
   ]
  },
  {
   "cell_type": "markdown",
   "id": "d88bde56",
   "metadata": {},
   "source": [
    "Pour un export en **.qgs**"
   ]
  },
  {
   "cell_type": "code",
   "execution_count": null,
   "id": "49c098ef",
   "metadata": {},
   "outputs": [],
   "source": [
    "if False:\n",
    "    with open(path_to_folder + f'/{qgz_file_name}_moved.qgs', \"w\") as f:\n",
    "        f.write(qgs_content_fixed)"
   ]
  },
  {
   "cell_type": "markdown",
   "id": "8b1dfb4c",
   "metadata": {},
   "source": [
    "Pour écraser le fichier initial (une sauvegarde est mise) :"
   ]
  },
  {
   "cell_type": "code",
   "execution_count": null,
   "id": "f82bf7b0",
   "metadata": {},
   "outputs": [],
   "source": [
    "import shutil"
   ]
  },
  {
   "cell_type": "code",
   "execution_count": null,
   "id": "3ab2f531",
   "metadata": {},
   "outputs": [],
   "source": [
    "shutil.copyfile(path_to_folder + f'/{qgz_file_name}.qgz', path_to_folder + f'/{qgz_file_name}_local.qgz')"
   ]
  },
  {
   "cell_type": "code",
   "execution_count": null,
   "id": "6fcf4df7",
   "metadata": {},
   "outputs": [],
   "source": [
    "archive_write = zipfile.ZipFile(path_to_folder + f'/{qgz_file_name}.qgz', 'w', compression=zipfile.ZIP_DEFLATED)\n",
    "print(archive_write.writestr(f'{qgz_file_name}.qgs', qgs_content_fixed))\n",
    "archive_write.close()"
   ]
  },
  {
   "cell_type": "code",
   "execution_count": null,
   "id": "b0378c0f",
   "metadata": {},
   "outputs": [],
   "source": []
  },
  {
   "cell_type": "code",
   "execution_count": null,
   "id": "d47a92f6",
   "metadata": {},
   "outputs": [],
   "source": []
  }
 ],
 "metadata": {
  "kernelspec": {
   "display_name": "Python 3 (ipykernel)",
   "language": "python",
   "name": "python3"
  },
  "language_info": {
   "codemirror_mode": {
    "name": "ipython",
    "version": 3
   },
   "file_extension": ".py",
   "mimetype": "text/x-python",
   "name": "python",
   "nbconvert_exporter": "python",
   "pygments_lexer": "ipython3",
   "version": "3.8.10"
  }
 },
 "nbformat": 4,
 "nbformat_minor": 5
}
